{
 "cells": [
  {
   "cell_type": "code",
   "execution_count": null,
   "metadata": {},
   "outputs": [
    {
     "ename": "",
     "evalue": "",
     "output_type": "error",
     "traceback": [
      "\u001b[1;31mRunning cells with 'Python 3.8.10 64-bit' requires ipykernel package.\n",
      "\u001b[1;31mRun the following command to install 'ipykernel' into the Python environment. \n",
      "\u001b[1;31mCommand: '/bin/python3 -m pip install ipykernel -U --user --force-reinstall'"
     ]
    }
   ],
   "source": [
    "from confluent_kafka.admin import AdminClient, NewTopic\n",
    "from confluent_kafka import Producer\n",
    "import pandas as pd\n",
    "import time\n",
    "from uuid import uuid4\n"
   ]
  },
  {
   "cell_type": "code",
   "execution_count": 10,
   "metadata": {},
   "outputs": [],
   "source": [
    "conf = {\"bootstrap.servers\": \"34.79.25.102:9092\"}\n",
    "admin_client = AdminClient(conf)"
   ]
  },
  {
   "cell_type": "code",
   "execution_count": 8,
   "metadata": {},
   "outputs": [
    {
     "data": {
      "text/plain": [
       "{'sales': <Future at 0x7fced3f69a20 state=running>}"
      ]
     },
     "execution_count": 8,
     "metadata": {},
     "output_type": "execute_result"
    }
   ],
   "source": [
    "topic_list = []\n",
    "topic_list.append(NewTopic(\"sales\", 1, 1))\n",
    "admin_client.create_topics(topic_list)"
   ]
  },
  {
   "cell_type": "code",
   "execution_count": 9,
   "metadata": {},
   "outputs": [
    {
     "data": {
      "text/plain": [
       "{'sales': TopicMetadata(sales, 1 partitions),\n",
       " '__confluent.support.metrics': TopicMetadata(__confluent.support.metrics, 1 partitions)}"
      ]
     },
     "execution_count": 9,
     "metadata": {},
     "output_type": "execute_result"
    }
   ],
   "source": [
    "admin_client.list_topics().topics"
   ]
  },
  {
   "cell_type": "code",
   "execution_count": 3,
   "metadata": {},
   "outputs": [],
   "source": [
    "df = pd.read_csv(\"e-shop clothing 2008.csv\", delimiter=\";\")\n",
    "df['json'] = df.apply(lambda x: x.to_json(), axis=1)"
   ]
  },
  {
   "cell_type": "code",
   "execution_count": 5,
   "metadata": {},
   "outputs": [
    {
     "name": "stdout",
     "output_type": "stream",
     "text": [
      "year\n",
      "month\n",
      "day\n",
      "order\n",
      "country\n",
      "session ID\n",
      "page 1 (main category)\n",
      "page 2 (clothing model)\n",
      "colour\n",
      "location\n",
      "model photography\n",
      "price\n",
      "price 2\n",
      "page\n",
      "json\n"
     ]
    }
   ],
   "source": [
    "#val schema = new StructType().add(\"Zipcode\", StringType, true).add(\"ZipCodeType\", StringType, true).add(\"City\", StringType, true).add(\"State\", StringType, true)\n",
    "command = \"\"\n",
    "for col in df.columns:\n",
    "    part = f'add(\"Zipcode\", StringType, true)'"
   ]
  },
  {
   "cell_type": "code",
   "execution_count": 13,
   "metadata": {},
   "outputs": [],
   "source": [
    "def delivery_report(errmsg, msg):\n",
    "    \"\"\"\n",
    "    Reports the Failure or Success of a message delivery.\n",
    "    Args:\n",
    "        errmsg  (KafkaError): The Error that occurred while message producing.\n",
    "        msg    (Actual message): The message that was produced.\n",
    "    Note:\n",
    "        In the delivery report callback the Message.key() and Message.value()\n",
    "        will be the binary format as encoded by any configured Serializers and\n",
    "        not the same object that was passed to produce().\n",
    "        If you wish to pass the original object(s) for key and value to delivery\n",
    "        report callback we recommend a bound callback or lambda where you pass\n",
    "        the objects along.\n",
    "    \"\"\"   \n",
    "    if errmsg is not None:\n",
    "        print(\"Delivery failed for Message: {} : {}\".format(msg.key(), errmsg))\n",
    "        return\n",
    "    print('Message: {} successfully produced to Topic: {} Partition: [{}] at offset {}'.format(\n",
    "        msg.key(), msg.topic(), msg.partition(), msg.offset()))"
   ]
  },
  {
   "cell_type": "code",
   "execution_count": 14,
   "metadata": {},
   "outputs": [],
   "source": [
    "producer = Producer(conf)\n",
    "producer.poll(0)\n",
    "for item in df['json']:\n",
    "    producer.produce(topic=\"sales\", key=str(uuid4()), value=item, on_delivery=delivery_report)\n",
    "    time.sleep(1)\n",
    "\n"
   ]
  },
  {
   "cell_type": "code",
   "execution_count": 14,
   "metadata": {},
   "outputs": [
    {
     "name": "stdout",
     "output_type": "stream",
     "text": [
      "Message: b'fd1dcc52-7b85-4396-9ce5-a286bbec98ec' successfully produced to Topic: sales Partition: [0] at offset 48\n",
      "Message: b'398b0934-f1d1-4e22-8298-525e2ab01641' successfully produced to Topic: sales Partition: [0] at offset 49\n",
      "Message: b'1bd87bd1-b7b0-4277-b8fb-d483c34c42e0' successfully produced to Topic: sales Partition: [0] at offset 50\n",
      "Message: b'13c7ea0f-7951-455d-a492-2a11e35b6f27' successfully produced to Topic: sales Partition: [0] at offset 51\n",
      "Message: b'31978845-b32d-4f74-ba0c-73eca2d50206' successfully produced to Topic: sales Partition: [0] at offset 52\n",
      "Message: b'b69add1c-93d4-47f4-b6cc-b5b23e5ebeb3' successfully produced to Topic: sales Partition: [0] at offset 53\n",
      "Message: b'625bd075-0514-4a06-ad13-09e06791b5e8' successfully produced to Topic: sales Partition: [0] at offset 54\n",
      "Message: b'ac6fe632-1ec7-49e7-9b6b-1e41ba1733a1' successfully produced to Topic: sales Partition: [0] at offset 55\n",
      "Message: b'1277bcc2-6265-4602-a488-28dd06b03e04' successfully produced to Topic: sales Partition: [0] at offset 56\n"
     ]
    },
    {
     "data": {
      "text/plain": [
       "0"
      ]
     },
     "execution_count": 14,
     "metadata": {},
     "output_type": "execute_result"
    }
   ],
   "source": [
    "producer.flush()"
   ]
  }
 ],
 "metadata": {
  "kernelspec": {
   "display_name": "Python 3.8.10 64-bit",
   "language": "python",
   "name": "python3"
  },
  "language_info": {
   "codemirror_mode": {
    "name": "ipython",
    "version": 3
   },
   "file_extension": ".py",
   "mimetype": "text/x-python",
   "name": "python",
   "nbconvert_exporter": "python",
   "pygments_lexer": "ipython3",
   "version": "3.8.10"
  },
  "orig_nbformat": 4,
  "vscode": {
   "interpreter": {
    "hash": "916dbcbb3f70747c44a77c7bcd40155683ae19c65e1c03b4aa3499c5328201f1"
   }
  }
 },
 "nbformat": 4,
 "nbformat_minor": 2
}
